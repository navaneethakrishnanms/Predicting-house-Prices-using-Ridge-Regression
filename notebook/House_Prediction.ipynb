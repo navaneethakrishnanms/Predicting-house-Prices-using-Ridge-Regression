{
 "cells": [
  {
   "cell_type": "code",
   "execution_count": 1,
   "id": "92d416e3",
   "metadata": {},
   "outputs": [
    {
     "name": "stdout",
     "output_type": "stream",
     "text": [
      "size_m2          0\n",
      "bedrooms         0\n",
      "bathrooms        0\n",
      "distance_city    0\n",
      "age_years        0\n",
      "price_k          0\n",
      "dtype: int64 \n",
      " (150, 6)\n"
     ]
    }
   ],
   "source": [
    "import pandas as pd\n",
    "import numpy as np\n",
    "\n",
    "from sklearn.model_selection import train_test_split\n",
    "from sklearn.linear_model import Ridge,LinearRegression\n",
    "df=pd.read_csv('houses_ridge.csv')\n",
    "a=df.isnull().sum()\n",
    "b=df.shape\n",
    "print(a,\"\\n\",b)"
   ]
  },
  {
   "cell_type": "code",
   "execution_count": 2,
   "id": "16e00774",
   "metadata": {},
   "outputs": [
    {
     "name": "stdout",
     "output_type": "stream",
     "text": [
      "Ridge R2 Score: 0.6525353613595786\n",
      "Ridge Mean Squared Error: 598.1115913842203\n",
      "Ridge Mean Absolute Error: 19.37026715128507\n"
     ]
    }
   ],
   "source": [
    "x=df.drop(['price_k'],axis=1)\n",
    "y=df['price_k']\n",
    "\n",
    " \n",
    "X_train, X_test, y_train, y_test = train_test_split(x, y, test_size=0.2, random_state=42)\n",
    "from sklearn.preprocessing import StandardScaler\n",
    "standard_scaler = StandardScaler()\n",
    "X_train_scaled = standard_scaler.fit_transform(X_train)\n",
    "\n",
    "\n",
    "ridge_model = Ridge(alpha=1)\n",
    "ridge_model.fit(X_train, y_train)\n",
    "\n",
    "y_pred_ridge = ridge_model.predict(X_test)\n",
    "\n",
    "from sklearn.metrics import r2_score, mean_squared_error, mean_absolute_error\n",
    "print(\"Ridge R2 Score:\", r2_score(y_test, y_pred_ridge))\n",
    "print(\"Ridge Mean Squared Error:\", mean_squared_error(y_test, y_pred_ridge))\n",
    "print(\"Ridge Mean Absolute Error:\", mean_absolute_error(y_test, y_pred_ridge))\n"
   ]
  },
  {
   "cell_type": "code",
   "execution_count": 3,
   "id": "52203811",
   "metadata": {},
   "outputs": [
    {
     "name": "stdout",
     "output_type": "stream",
     "text": [
      "Coefficients:\n",
      "         Feature  OLS_Coeff  Ridge_Coeff\n",
      "0        size_m2   0.416011     0.488419\n",
      "1       bedrooms  10.909967    10.135324\n",
      "2      bathrooms  16.914801    15.193324\n",
      "3  distance_city  -0.661248    -0.668920\n",
      "4      age_years  -0.731700    -0.723475\n",
      "R2 Scores:\n",
      "{'OLS Train R²': 0.8479406057743643, 'OLS Test R²': 0.650815820909559, 'Ridge Train R²': 0.84628461011561, 'Ridge Test R²': 0.6647717301739692}\n"
     ]
    }
   ],
   "source": [
    "from sklearn.metrics import r2_score, mean_squared_error\n",
    "ols = LinearRegression().fit(X_train, y_train)\n",
    "ridge = Ridge(alpha=10).fit(X_train, y_train)\n",
    "\n",
    "\n",
    "results = pd.DataFrame({\n",
    "    \"Feature\": x.columns,\n",
    "    \"OLS_Coeff\": ols.coef_,\n",
    "    \"Ridge_Coeff\": ridge.coef_\n",
    "})\n",
    "\n",
    "\n",
    "r2_scores = {\n",
    "    \"OLS Train R²\": r2_score(y_train, ols.predict(X_train)),\n",
    "    \"OLS Test R²\": r2_score(y_test, ols.predict(X_test)),\n",
    "    \"Ridge Train R²\": r2_score(y_train, ridge.predict(X_train)),\n",
    "    \"Ridge Test R²\": r2_score(y_test, ridge.predict(X_test)),\n",
    "}\n",
    "\n",
    "print(\"Coefficients:\")\n",
    "print(results)\n",
    "print(\"R2 Scores:\")\n",
    "print(r2_scores)\n",
    "\n",
    "\n",
    "\n",
    "\n"
   ]
  },
  {
   "cell_type": "code",
   "execution_count": 4,
   "id": "8b0ea4df",
   "metadata": {},
   "outputs": [
    {
     "data": {
      "text/html": [
       "<div>\n",
       "<style scoped>\n",
       "    .dataframe tbody tr th:only-of-type {\n",
       "        vertical-align: middle;\n",
       "    }\n",
       "\n",
       "    .dataframe tbody tr th {\n",
       "        vertical-align: top;\n",
       "    }\n",
       "\n",
       "    .dataframe thead th {\n",
       "        text-align: right;\n",
       "    }\n",
       "</style>\n",
       "<table border=\"1\" class=\"dataframe\">\n",
       "  <thead>\n",
       "    <tr style=\"text-align: right;\">\n",
       "      <th></th>\n",
       "      <th>size_m2</th>\n",
       "      <th>bedrooms</th>\n",
       "      <th>bathrooms</th>\n",
       "      <th>distance_city</th>\n",
       "      <th>age_years</th>\n",
       "      <th>price_k</th>\n",
       "    </tr>\n",
       "  </thead>\n",
       "  <tbody>\n",
       "    <tr>\n",
       "      <th>0</th>\n",
       "      <td>110.0</td>\n",
       "      <td>3</td>\n",
       "      <td>3</td>\n",
       "      <td>11.1</td>\n",
       "      <td>1.6</td>\n",
       "      <td>145.8</td>\n",
       "    </tr>\n",
       "    <tr>\n",
       "      <th>1</th>\n",
       "      <td>119.0</td>\n",
       "      <td>3</td>\n",
       "      <td>3</td>\n",
       "      <td>15.6</td>\n",
       "      <td>23.8</td>\n",
       "      <td>134.4</td>\n",
       "    </tr>\n",
       "    <tr>\n",
       "      <th>2</th>\n",
       "      <td>101.8</td>\n",
       "      <td>3</td>\n",
       "      <td>2</td>\n",
       "      <td>11.7</td>\n",
       "      <td>17.4</td>\n",
       "      <td>117.5</td>\n",
       "    </tr>\n",
       "    <tr>\n",
       "      <th>3</th>\n",
       "      <td>83.3</td>\n",
       "      <td>2</td>\n",
       "      <td>1</td>\n",
       "      <td>5.5</td>\n",
       "      <td>21.1</td>\n",
       "      <td>94.7</td>\n",
       "    </tr>\n",
       "    <tr>\n",
       "      <th>4</th>\n",
       "      <td>96.4</td>\n",
       "      <td>3</td>\n",
       "      <td>2</td>\n",
       "      <td>11.4</td>\n",
       "      <td>1.0</td>\n",
       "      <td>119.9</td>\n",
       "    </tr>\n",
       "    <tr>\n",
       "      <th>...</th>\n",
       "      <td>...</td>\n",
       "      <td>...</td>\n",
       "      <td>...</td>\n",
       "      <td>...</td>\n",
       "      <td>...</td>\n",
       "      <td>...</td>\n",
       "    </tr>\n",
       "    <tr>\n",
       "      <th>145</th>\n",
       "      <td>71.7</td>\n",
       "      <td>2</td>\n",
       "      <td>1</td>\n",
       "      <td>18.4</td>\n",
       "      <td>37.8</td>\n",
       "      <td>57.2</td>\n",
       "    </tr>\n",
       "    <tr>\n",
       "      <th>146</th>\n",
       "      <td>147.7</td>\n",
       "      <td>4</td>\n",
       "      <td>4</td>\n",
       "      <td>14.4</td>\n",
       "      <td>31.2</td>\n",
       "      <td>189.1</td>\n",
       "    </tr>\n",
       "    <tr>\n",
       "      <th>147</th>\n",
       "      <td>105.4</td>\n",
       "      <td>3</td>\n",
       "      <td>2</td>\n",
       "      <td>10.1</td>\n",
       "      <td>25.1</td>\n",
       "      <td>102.1</td>\n",
       "    </tr>\n",
       "    <tr>\n",
       "      <th>148</th>\n",
       "      <td>139.0</td>\n",
       "      <td>4</td>\n",
       "      <td>3</td>\n",
       "      <td>14.2</td>\n",
       "      <td>11.2</td>\n",
       "      <td>174.4</td>\n",
       "    </tr>\n",
       "    <tr>\n",
       "      <th>149</th>\n",
       "      <td>110.4</td>\n",
       "      <td>3</td>\n",
       "      <td>3</td>\n",
       "      <td>6.0</td>\n",
       "      <td>32.4</td>\n",
       "      <td>116.6</td>\n",
       "    </tr>\n",
       "  </tbody>\n",
       "</table>\n",
       "<p>150 rows × 6 columns</p>\n",
       "</div>"
      ],
      "text/plain": [
       "     size_m2  bedrooms  bathrooms  distance_city  age_years  price_k\n",
       "0      110.0         3          3           11.1        1.6    145.8\n",
       "1      119.0         3          3           15.6       23.8    134.4\n",
       "2      101.8         3          2           11.7       17.4    117.5\n",
       "3       83.3         2          1            5.5       21.1     94.7\n",
       "4       96.4         3          2           11.4        1.0    119.9\n",
       "..       ...       ...        ...            ...        ...      ...\n",
       "145     71.7         2          1           18.4       37.8     57.2\n",
       "146    147.7         4          4           14.4       31.2    189.1\n",
       "147    105.4         3          2           10.1       25.1    102.1\n",
       "148    139.0         4          3           14.2       11.2    174.4\n",
       "149    110.4         3          3            6.0       32.4    116.6\n",
       "\n",
       "[150 rows x 6 columns]"
      ]
     },
     "execution_count": 4,
     "metadata": {},
     "output_type": "execute_result"
    }
   ],
   "source": [
    "df"
   ]
  },
  {
   "cell_type": "code",
   "execution_count": 5,
   "id": "61c52a40",
   "metadata": {},
   "outputs": [
    {
     "name": "stdout",
     "output_type": "stream",
     "text": [
      "135.63001762712665\n"
     ]
    }
   ],
   "source": [
    "input={\"size_m2\":119,\"bedrooms\":3,\"bathrooms\":3,\"distance_city\":15.6,\"age_years\":23.8}\n",
    "user_df = pd.DataFrame([input])\n",
    "pred_price=ridge_model.predict(user_df)[0]\n",
    "print(pred_price)"
   ]
  },
  {
   "cell_type": "code",
   "execution_count": 6,
   "id": "0d662fd9",
   "metadata": {},
   "outputs": [],
   "source": [
    "import pickle\n",
    "with open('ridge_model.pkl', 'wb') as f:\n",
    "    pickle.dump(ridge_model, f)\n",
    "    "
   ]
  },
  {
   "cell_type": "code",
   "execution_count": 7,
   "id": "9cb3cfe7",
   "metadata": {},
   "outputs": [
    {
     "data": {
      "text/plain": [
       "array([130.73107622,  69.54614942, 152.18047072,  94.92416989,\n",
       "       100.83938844,  78.44618211,  98.11277001, 122.31973402,\n",
       "        85.924043  , 165.9065562 , 190.67316021, 162.17184973,\n",
       "       173.19158113,  95.51581874,  80.53674654, 122.4184887 ,\n",
       "        93.20685521, 101.93844207, 171.30215392, 116.43442072,\n",
       "       141.50280556, 134.85561702,  62.68790263,  80.08423802,\n",
       "       128.33982661,  59.22955377, 130.90179527, 108.94402336,\n",
       "        78.2071303 ,  72.26168133])"
      ]
     },
     "execution_count": 7,
     "metadata": {},
     "output_type": "execute_result"
    }
   ],
   "source": [
    "with open('ridge_model.pkl', 'rb') as f:\n",
    "    loaded_model = pickle.load(f)\n",
    "\n",
    "\n",
    "y_pred = loaded_model.predict(X_test)\n",
    "y_pred\n"
   ]
  }
 ],
 "metadata": {
  "kernelspec": {
   "display_name": "base",
   "language": "python",
   "name": "python3"
  },
  "language_info": {
   "codemirror_mode": {
    "name": "ipython",
    "version": 3
   },
   "file_extension": ".py",
   "mimetype": "text/x-python",
   "name": "python",
   "nbconvert_exporter": "python",
   "pygments_lexer": "ipython3",
   "version": "3.13.5"
  }
 },
 "nbformat": 4,
 "nbformat_minor": 5
}
