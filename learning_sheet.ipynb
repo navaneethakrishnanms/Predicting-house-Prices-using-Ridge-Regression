{
  "cells": [
    {
      "cell_type": "code",
      "execution_count": 1,
      "metadata": {
        "id": "Mr1bobfF3ZKm"
      },
      "outputs": [],
      "source": [
        "import numpy as np\n",
        "import pandas as pd\n",
        "from sklearn.datasets import fetch_california_housing\n",
        "from sklearn.model_selection import train_test_split\n",
        "from sklearn.linear_model import Ridge, Lasso\n",
        "from sklearn.metrics import mean_squared_error\n",
        "\n",
        "housing = fetch_california_housing(as_frame=True)\n",
        "X = housing.data\n",
        "y = housing.target\n",
        "\n",
        "\n",
        "X_train, X_test, y_train, y_test = train_test_split(X, y, test_size=0.2, random_state=42)"
      ]
    },
    {
      "cell_type": "code",
      "execution_count": 2,
      "metadata": {
        "colab": {
          "base_uri": "https://localhost:8080/"
        },
        "id": "JuKM4zgg3n5j",
        "outputId": "7ded270f-a710-47d4-abc7-3ef6f875e2db"
      },
      "outputs": [
        {
          "name": "stdout",
          "output_type": "stream",
          "text": [
            "Ridge Regression Mean Squared Error: 0.5558\n",
            "\n",
            "Ridge Coefficients:\n",
            "MedInc: 0.4485\n",
            "HouseAge: 0.0097\n",
            "AveRooms: -0.1230\n",
            "AveBedrms: 0.7814\n",
            "Population: -0.0000\n",
            "AveOccup: -0.0035\n",
            "Latitude: -0.4198\n",
            "Longitude: -0.4337\n"
          ]
        }
      ],
      "source": [
        "\n",
        "ridge_model = Ridge(alpha=1.0)\n",
        "\n",
        "\n",
        "ridge_model.fit(X_train, y_train)\n",
        "\n",
        "\n",
        "y_pred_ridge = ridge_model.predict(X_test)\n",
        "\n",
        "mse_ridge = mean_squared_error(y_test, y_pred_ridge)\n",
        "print(f\"Ridge Regression Mean Squared Error: {mse_ridge:.4f}\")\n",
        "\n",
        "print(\"\\nRidge Coefficients:\")\n",
        "for feature, coef in zip(X.columns, ridge_model.coef_):\n",
        "    print(f\"{feature}: {coef:.4f}\")"
      ]
    },
    {
      "cell_type": "code",
      "execution_count": 3,
      "metadata": {
        "colab": {
          "base_uri": "https://localhost:8080/"
        },
        "id": "O7hoBBKX3pOD",
        "outputId": "e1f634a5-53b4-41f7-89b7-c98b92437908"
      },
      "outputs": [
        {
          "name": "stdout",
          "output_type": "stream",
          "text": [
            "\n",
            "Lasso Regression Mean Squared Error: 0.6135\n",
            "\n",
            "Lasso Coefficients:\n",
            "MedInc: 0.3927\n",
            "HouseAge: 0.0151\n",
            "AveRooms: -0.0000\n",
            "AveBedrms: 0.0000\n",
            "Population: 0.0000\n",
            "AveOccup: -0.0031\n",
            "Latitude: -0.1143\n",
            "Longitude: -0.0993\n"
          ]
        }
      ],
      "source": [
        "\n",
        "lasso_model = Lasso(alpha=0.1)\n",
        "\n",
        "\n",
        "lasso_model.fit(X_train, y_train)\n",
        "\n",
        "\n",
        "y_pred_lasso = lasso_model.predict(X_test)\n",
        "\n",
        "\n",
        "mse_lasso = mean_squared_error(y_test, y_pred_lasso)\n",
        "print(f\"\\nLasso Regression Mean Squared Error: {mse_lasso:.4f}\")\n",
        "\n",
        "print(\"\\nLasso Coefficients:\")\n",
        "for feature, coef in zip(X.columns, lasso_model.coef_):\n",
        "    print(f\"{feature}: {coef:.4f}\")"
      ]
    }
  ],
  "metadata": {
    "colab": {
      "provenance": []
    },
    "kernelspec": {
      "display_name": "base",
      "language": "python",
      "name": "python3"
    },
    "language_info": {
      "codemirror_mode": {
        "name": "ipython",
        "version": 3
      },
      "file_extension": ".py",
      "mimetype": "text/x-python",
      "name": "python",
      "nbconvert_exporter": "python",
      "pygments_lexer": "ipython3",
      "version": "3.13.5"
    }
  },
  "nbformat": 4,
  "nbformat_minor": 0
}
